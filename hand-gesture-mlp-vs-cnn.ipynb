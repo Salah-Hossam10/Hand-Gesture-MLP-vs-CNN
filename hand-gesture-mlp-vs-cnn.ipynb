{
 "cells": [
  {
   "cell_type": "code",
   "execution_count": 1,
   "id": "8c29ed17",
   "metadata": {
    "execution": {
     "iopub.execute_input": "2025-04-08T00:20:23.754552Z",
     "iopub.status.busy": "2025-04-08T00:20:23.754189Z",
     "iopub.status.idle": "2025-04-08T00:20:24.949889Z",
     "shell.execute_reply": "2025-04-08T00:20:24.948819Z"
    },
    "papermill": {
     "duration": 1.20435,
     "end_time": "2025-04-08T00:20:24.951174",
     "exception": false,
     "start_time": "2025-04-08T00:20:23.746824",
     "status": "completed"
    },
    "tags": []
   },
   "outputs": [
    {
     "name": "stdout",
     "output_type": "stream",
     "text": [
      "/kaggle/input/hagrid-dataset/hand_landmarks_data.csv\n"
     ]
    }
   ],
   "source": [
    "# This Python 3 environment comes with many helpful analytics libraries installed\n",
    "# It is defined by the kaggle/python Docker image: https://github.com/kaggle/docker-python\n",
    "# For example, here's several helpful packages to load\n",
    "\n",
    "import numpy as np # linear algebra\n",
    "import pandas as pd # data processing, CSV file I/O (e.g. pd.read_csv)\n",
    "\n",
    "# Input data files are available in the read-only \"../input/\" directory\n",
    "# For example, running this (by clicking run or pressing Shift+Enter) will list all files under the input directory\n",
    "\n",
    "import os\n",
    "for dirname, _, filenames in os.walk('/kaggle/input'):\n",
    "    for filename in filenames:\n",
    "        print(os.path.join(dirname, filename))\n",
    "\n",
    "# You can write up to 20GB to the current directory (/kaggle/working/) that gets preserved as output when you create a version using \"Save & Run All\" \n",
    "# You can also write temporary files to /kaggle/temp/, but they won't be saved outside of the current session"
   ]
  },
  {
   "cell_type": "markdown",
   "id": "5d21e898",
   "metadata": {
    "papermill": {
     "duration": 0.005558,
     "end_time": "2025-04-08T00:20:24.963097",
     "exception": false,
     "start_time": "2025-04-08T00:20:24.957539",
     "status": "completed"
    },
    "tags": []
   },
   "source": [
    "# Install mediapipe"
   ]
  },
  {
   "cell_type": "code",
   "execution_count": 2,
   "id": "19006854",
   "metadata": {
    "execution": {
     "iopub.execute_input": "2025-04-08T00:20:24.975554Z",
     "iopub.status.busy": "2025-04-08T00:20:24.975173Z",
     "iopub.status.idle": "2025-04-08T00:21:03.332459Z",
     "shell.execute_reply": "2025-04-08T00:21:03.331289Z"
    },
    "papermill": {
     "duration": 38.365112,
     "end_time": "2025-04-08T00:21:03.334007",
     "exception": false,
     "start_time": "2025-04-08T00:20:24.968895",
     "status": "completed"
    },
    "tags": []
   },
   "outputs": [
    {
     "name": "stdout",
     "output_type": "stream",
     "text": [
      "Collecting mediapipe\r\n",
      "  Downloading mediapipe-0.10.21-cp310-cp310-manylinux_2_28_x86_64.whl.metadata (9.7 kB)\r\n",
      "Requirement already satisfied: absl-py in /usr/local/lib/python3.10/dist-packages (from mediapipe) (1.4.0)\r\n",
      "Requirement already satisfied: attrs>=19.1.0 in /usr/local/lib/python3.10/dist-packages (from mediapipe) (25.1.0)\r\n",
      "Requirement already satisfied: flatbuffers>=2.0 in /usr/local/lib/python3.10/dist-packages (from mediapipe) (24.3.25)\r\n",
      "Requirement already satisfied: jax in /usr/local/lib/python3.10/dist-packages (from mediapipe) (0.4.33)\r\n",
      "Requirement already satisfied: jaxlib in /usr/local/lib/python3.10/dist-packages (from mediapipe) (0.4.33)\r\n",
      "Requirement already satisfied: matplotlib in /usr/local/lib/python3.10/dist-packages (from mediapipe) (3.7.5)\r\n",
      "Requirement already satisfied: numpy<2 in /usr/local/lib/python3.10/dist-packages (from mediapipe) (1.26.4)\r\n",
      "Requirement already satisfied: opencv-contrib-python in /usr/local/lib/python3.10/dist-packages (from mediapipe) (4.10.0.84)\r\n",
      "Collecting protobuf<5,>=4.25.3 (from mediapipe)\r\n",
      "  Downloading protobuf-4.25.6-cp37-abi3-manylinux2014_x86_64.whl.metadata (541 bytes)\r\n",
      "Collecting sounddevice>=0.4.4 (from mediapipe)\r\n",
      "  Downloading sounddevice-0.5.1-py3-none-any.whl.metadata (1.4 kB)\r\n",
      "Requirement already satisfied: sentencepiece in /usr/local/lib/python3.10/dist-packages (from mediapipe) (0.2.0)\r\n",
      "Requirement already satisfied: mkl_fft in /usr/local/lib/python3.10/dist-packages (from numpy<2->mediapipe) (1.3.8)\r\n",
      "Requirement already satisfied: mkl_random in /usr/local/lib/python3.10/dist-packages (from numpy<2->mediapipe) (1.2.4)\r\n",
      "Requirement already satisfied: mkl_umath in /usr/local/lib/python3.10/dist-packages (from numpy<2->mediapipe) (0.1.1)\r\n",
      "Requirement already satisfied: mkl in /usr/local/lib/python3.10/dist-packages (from numpy<2->mediapipe) (2025.0.1)\r\n",
      "Requirement already satisfied: tbb4py in /usr/local/lib/python3.10/dist-packages (from numpy<2->mediapipe) (2022.0.0)\r\n",
      "Requirement already satisfied: mkl-service in /usr/local/lib/python3.10/dist-packages (from numpy<2->mediapipe) (2.4.1)\r\n",
      "Requirement already satisfied: CFFI>=1.0 in /usr/local/lib/python3.10/dist-packages (from sounddevice>=0.4.4->mediapipe) (1.17.1)\r\n",
      "Requirement already satisfied: ml-dtypes>=0.2.0 in /usr/local/lib/python3.10/dist-packages (from jax->mediapipe) (0.4.1)\r\n",
      "Requirement already satisfied: opt-einsum in /usr/local/lib/python3.10/dist-packages (from jax->mediapipe) (3.4.0)\r\n",
      "Requirement already satisfied: scipy>=1.10 in /usr/local/lib/python3.10/dist-packages (from jax->mediapipe) (1.13.1)\r\n",
      "Requirement already satisfied: contourpy>=1.0.1 in /usr/local/lib/python3.10/dist-packages (from matplotlib->mediapipe) (1.3.1)\r\n",
      "Requirement already satisfied: cycler>=0.10 in /usr/local/lib/python3.10/dist-packages (from matplotlib->mediapipe) (0.12.1)\r\n",
      "Requirement already satisfied: fonttools>=4.22.0 in /usr/local/lib/python3.10/dist-packages (from matplotlib->mediapipe) (4.55.3)\r\n",
      "Requirement already satisfied: kiwisolver>=1.0.1 in /usr/local/lib/python3.10/dist-packages (from matplotlib->mediapipe) (1.4.7)\r\n",
      "Requirement already satisfied: packaging>=20.0 in /usr/local/lib/python3.10/dist-packages (from matplotlib->mediapipe) (24.2)\r\n",
      "Requirement already satisfied: pillow>=6.2.0 in /usr/local/lib/python3.10/dist-packages (from matplotlib->mediapipe) (11.0.0)\r\n",
      "Requirement already satisfied: pyparsing>=2.3.1 in /usr/local/lib/python3.10/dist-packages (from matplotlib->mediapipe) (3.2.0)\r\n",
      "Requirement already satisfied: python-dateutil>=2.7 in /usr/local/lib/python3.10/dist-packages (from matplotlib->mediapipe) (2.9.0.post0)\r\n",
      "Requirement already satisfied: pycparser in /usr/local/lib/python3.10/dist-packages (from CFFI>=1.0->sounddevice>=0.4.4->mediapipe) (2.22)\r\n",
      "Requirement already satisfied: six>=1.5 in /usr/local/lib/python3.10/dist-packages (from python-dateutil>=2.7->matplotlib->mediapipe) (1.17.0)\r\n",
      "Requirement already satisfied: intel-openmp>=2024 in /usr/local/lib/python3.10/dist-packages (from mkl->numpy<2->mediapipe) (2024.2.0)\r\n",
      "Requirement already satisfied: tbb==2022.* in /usr/local/lib/python3.10/dist-packages (from mkl->numpy<2->mediapipe) (2022.0.0)\r\n",
      "Requirement already satisfied: tcmlib==1.* in /usr/local/lib/python3.10/dist-packages (from tbb==2022.*->mkl->numpy<2->mediapipe) (1.2.0)\r\n",
      "Requirement already satisfied: intel-cmplr-lib-rt in /usr/local/lib/python3.10/dist-packages (from mkl_umath->numpy<2->mediapipe) (2024.2.0)\r\n",
      "Requirement already satisfied: intel-cmplr-lib-ur==2024.2.0 in /usr/local/lib/python3.10/dist-packages (from intel-openmp>=2024->mkl->numpy<2->mediapipe) (2024.2.0)\r\n",
      "Downloading mediapipe-0.10.21-cp310-cp310-manylinux_2_28_x86_64.whl (35.6 MB)\r\n",
      "\u001b[2K   \u001b[90m━━━━━━━━━━━━━━━━━━━━━━━━━━━━━━━━━━━━━━━━\u001b[0m \u001b[32m35.6/35.6 MB\u001b[0m \u001b[31m43.2 MB/s\u001b[0m eta \u001b[36m0:00:00\u001b[0m\r\n",
      "\u001b[?25hDownloading protobuf-4.25.6-cp37-abi3-manylinux2014_x86_64.whl (294 kB)\r\n",
      "\u001b[2K   \u001b[90m━━━━━━━━━━━━━━━━━━━━━━━━━━━━━━━━━━━━━━━━\u001b[0m \u001b[32m294.6/294.6 kB\u001b[0m \u001b[31m15.4 MB/s\u001b[0m eta \u001b[36m0:00:00\u001b[0m\r\n",
      "\u001b[?25hDownloading sounddevice-0.5.1-py3-none-any.whl (32 kB)\r\n",
      "Installing collected packages: protobuf, sounddevice, mediapipe\r\n",
      "  Attempting uninstall: protobuf\r\n",
      "    Found existing installation: protobuf 3.20.3\r\n",
      "    Uninstalling protobuf-3.20.3:\r\n",
      "      Successfully uninstalled protobuf-3.20.3\r\n",
      "\u001b[31mERROR: pip's dependency resolver does not currently take into account all the packages that are installed. This behaviour is the source of the following dependency conflicts.\r\n",
      "google-api-core 1.34.1 requires protobuf!=3.20.0,!=3.20.1,!=4.21.0,!=4.21.1,!=4.21.2,!=4.21.3,!=4.21.4,!=4.21.5,<4.0.0dev,>=3.19.5, but you have protobuf 4.25.6 which is incompatible.\r\n",
      "google-cloud-bigtable 2.27.0 requires google-api-core[grpc]<3.0.0dev,>=2.16.0, but you have google-api-core 1.34.1 which is incompatible.\r\n",
      "pandas-gbq 0.25.0 requires google-api-core<3.0.0dev,>=2.10.2, but you have google-api-core 1.34.1 which is incompatible.\r\n",
      "tensorflow-decision-forests 1.10.0 requires tensorflow==2.17.0, but you have tensorflow 2.17.1 which is incompatible.\u001b[0m\u001b[31m\r\n",
      "\u001b[0mSuccessfully installed mediapipe-0.10.21 protobuf-4.25.6 sounddevice-0.5.1\r\n",
      "Note: you may need to restart the kernel to use updated packages.\n"
     ]
    }
   ],
   "source": [
    "pip install mediapipe"
   ]
  },
  {
   "cell_type": "markdown",
   "id": "d731abca",
   "metadata": {
    "papermill": {
     "duration": 0.006746,
     "end_time": "2025-04-08T00:21:03.348018",
     "exception": false,
     "start_time": "2025-04-08T00:21:03.341272",
     "status": "completed"
    },
    "tags": []
   },
   "source": [
    "# Install scikeras"
   ]
  },
  {
   "cell_type": "code",
   "execution_count": 3,
   "id": "81c54156",
   "metadata": {
    "execution": {
     "iopub.execute_input": "2025-04-08T00:21:03.362763Z",
     "iopub.status.busy": "2025-04-08T00:21:03.362510Z",
     "iopub.status.idle": "2025-04-08T00:21:11.013946Z",
     "shell.execute_reply": "2025-04-08T00:21:11.012851Z"
    },
    "papermill": {
     "duration": 7.660532,
     "end_time": "2025-04-08T00:21:11.015498",
     "exception": false,
     "start_time": "2025-04-08T00:21:03.354966",
     "status": "completed"
    },
    "tags": []
   },
   "outputs": [
    {
     "name": "stdout",
     "output_type": "stream",
     "text": [
      "Collecting scikeras\r\n",
      "  Downloading scikeras-0.13.0-py3-none-any.whl.metadata (3.1 kB)\r\n",
      "Requirement already satisfied: keras>=3.2.0 in /usr/local/lib/python3.10/dist-packages (from scikeras) (3.5.0)\r\n",
      "Collecting scikit-learn>=1.4.2 (from scikeras)\r\n",
      "  Downloading scikit_learn-1.6.1-cp310-cp310-manylinux_2_17_x86_64.manylinux2014_x86_64.whl.metadata (18 kB)\r\n",
      "Requirement already satisfied: absl-py in /usr/local/lib/python3.10/dist-packages (from keras>=3.2.0->scikeras) (1.4.0)\r\n",
      "Requirement already satisfied: numpy in /usr/local/lib/python3.10/dist-packages (from keras>=3.2.0->scikeras) (1.26.4)\r\n",
      "Requirement already satisfied: rich in /usr/local/lib/python3.10/dist-packages (from keras>=3.2.0->scikeras) (13.9.4)\r\n",
      "Requirement already satisfied: namex in /usr/local/lib/python3.10/dist-packages (from keras>=3.2.0->scikeras) (0.0.8)\r\n",
      "Requirement already satisfied: h5py in /usr/local/lib/python3.10/dist-packages (from keras>=3.2.0->scikeras) (3.12.1)\r\n",
      "Requirement already satisfied: optree in /usr/local/lib/python3.10/dist-packages (from keras>=3.2.0->scikeras) (0.13.1)\r\n",
      "Requirement already satisfied: ml-dtypes in /usr/local/lib/python3.10/dist-packages (from keras>=3.2.0->scikeras) (0.4.1)\r\n",
      "Requirement already satisfied: packaging in /usr/local/lib/python3.10/dist-packages (from keras>=3.2.0->scikeras) (24.2)\r\n",
      "Requirement already satisfied: scipy>=1.6.0 in /usr/local/lib/python3.10/dist-packages (from scikit-learn>=1.4.2->scikeras) (1.13.1)\r\n",
      "Requirement already satisfied: joblib>=1.2.0 in /usr/local/lib/python3.10/dist-packages (from scikit-learn>=1.4.2->scikeras) (1.4.2)\r\n",
      "Requirement already satisfied: threadpoolctl>=3.1.0 in /usr/local/lib/python3.10/dist-packages (from scikit-learn>=1.4.2->scikeras) (3.5.0)\r\n",
      "Requirement already satisfied: mkl_fft in /usr/local/lib/python3.10/dist-packages (from numpy->keras>=3.2.0->scikeras) (1.3.8)\r\n",
      "Requirement already satisfied: mkl_random in /usr/local/lib/python3.10/dist-packages (from numpy->keras>=3.2.0->scikeras) (1.2.4)\r\n",
      "Requirement already satisfied: mkl_umath in /usr/local/lib/python3.10/dist-packages (from numpy->keras>=3.2.0->scikeras) (0.1.1)\r\n",
      "Requirement already satisfied: mkl in /usr/local/lib/python3.10/dist-packages (from numpy->keras>=3.2.0->scikeras) (2025.0.1)\r\n",
      "Requirement already satisfied: tbb4py in /usr/local/lib/python3.10/dist-packages (from numpy->keras>=3.2.0->scikeras) (2022.0.0)\r\n",
      "Requirement already satisfied: mkl-service in /usr/local/lib/python3.10/dist-packages (from numpy->keras>=3.2.0->scikeras) (2.4.1)\r\n",
      "Requirement already satisfied: typing-extensions>=4.5.0 in /usr/local/lib/python3.10/dist-packages (from optree->keras>=3.2.0->scikeras) (4.12.2)\r\n",
      "Requirement already satisfied: markdown-it-py>=2.2.0 in /usr/local/lib/python3.10/dist-packages (from rich->keras>=3.2.0->scikeras) (3.0.0)\r\n",
      "Requirement already satisfied: pygments<3.0.0,>=2.13.0 in /usr/local/lib/python3.10/dist-packages (from rich->keras>=3.2.0->scikeras) (2.19.1)\r\n",
      "Requirement already satisfied: mdurl~=0.1 in /usr/local/lib/python3.10/dist-packages (from markdown-it-py>=2.2.0->rich->keras>=3.2.0->scikeras) (0.1.2)\r\n",
      "Requirement already satisfied: intel-openmp>=2024 in /usr/local/lib/python3.10/dist-packages (from mkl->numpy->keras>=3.2.0->scikeras) (2024.2.0)\r\n",
      "Requirement already satisfied: tbb==2022.* in /usr/local/lib/python3.10/dist-packages (from mkl->numpy->keras>=3.2.0->scikeras) (2022.0.0)\r\n",
      "Requirement already satisfied: tcmlib==1.* in /usr/local/lib/python3.10/dist-packages (from tbb==2022.*->mkl->numpy->keras>=3.2.0->scikeras) (1.2.0)\r\n",
      "Requirement already satisfied: intel-cmplr-lib-rt in /usr/local/lib/python3.10/dist-packages (from mkl_umath->numpy->keras>=3.2.0->scikeras) (2024.2.0)\r\n",
      "Requirement already satisfied: intel-cmplr-lib-ur==2024.2.0 in /usr/local/lib/python3.10/dist-packages (from intel-openmp>=2024->mkl->numpy->keras>=3.2.0->scikeras) (2024.2.0)\r\n",
      "Downloading scikeras-0.13.0-py3-none-any.whl (26 kB)\r\n",
      "Downloading scikit_learn-1.6.1-cp310-cp310-manylinux_2_17_x86_64.manylinux2014_x86_64.whl (13.5 MB)\r\n",
      "\u001b[2K   \u001b[90m━━━━━━━━━━━━━━━━━━━━━━━━━━━━━━━━━━━━━━━━\u001b[0m \u001b[32m13.5/13.5 MB\u001b[0m \u001b[31m60.7 MB/s\u001b[0m eta \u001b[36m0:00:00\u001b[0m\r\n",
      "\u001b[?25hInstalling collected packages: scikit-learn, scikeras\r\n",
      "  Attempting uninstall: scikit-learn\r\n",
      "    Found existing installation: scikit-learn 1.2.2\r\n",
      "    Uninstalling scikit-learn-1.2.2:\r\n",
      "      Successfully uninstalled scikit-learn-1.2.2\r\n",
      "\u001b[31mERROR: pip's dependency resolver does not currently take into account all the packages that are installed. This behaviour is the source of the following dependency conflicts.\r\n",
      "category-encoders 2.7.0 requires scikit-learn<1.6.0,>=1.0.0, but you have scikit-learn 1.6.1 which is incompatible.\u001b[0m\u001b[31m\r\n",
      "\u001b[0mSuccessfully installed scikeras-0.13.0 scikit-learn-1.6.1\r\n",
      "Note: you may need to restart the kernel to use updated packages.\n"
     ]
    }
   ],
   "source": [
    "pip install scikeras"
   ]
  },
  {
   "cell_type": "markdown",
   "id": "3c3c5d65",
   "metadata": {
    "papermill": {
     "duration": 0.007381,
     "end_time": "2025-04-08T00:21:11.030864",
     "exception": false,
     "start_time": "2025-04-08T00:21:11.023483",
     "status": "completed"
    },
    "tags": []
   },
   "source": [
    "# Import Libraries\n"
   ]
  },
  {
   "cell_type": "code",
   "execution_count": 4,
   "id": "1126f7e7",
   "metadata": {
    "execution": {
     "iopub.execute_input": "2025-04-08T00:21:11.046775Z",
     "iopub.status.busy": "2025-04-08T00:21:11.046528Z",
     "iopub.status.idle": "2025-04-08T00:21:33.920192Z",
     "shell.execute_reply": "2025-04-08T00:21:33.919261Z"
    },
    "papermill": {
     "duration": 22.883663,
     "end_time": "2025-04-08T00:21:33.921969",
     "exception": false,
     "start_time": "2025-04-08T00:21:11.038306",
     "status": "completed"
    },
    "tags": []
   },
   "outputs": [],
   "source": [
    "import os\n",
    "import numpy as np\n",
    "import pandas as pd\n",
    "import matplotlib.pyplot as plt\n",
    "import seaborn as sns\n",
    "import cv2\n",
    "import joblib\n",
    "from datetime import datetime\n",
    "import mediapipe as mp\n",
    "from sklearn.model_selection import train_test_split\n",
    "from sklearn.preprocessing import LabelEncoder, StandardScaler\n",
    "from sklearn.metrics import accuracy_score, confusion_matrix\n",
    "from sklearn.linear_model import LogisticRegression, RidgeClassifier\n",
    "from sklearn.tree import DecisionTreeClassifier\n",
    "from sklearn.svm import SVC\n",
    "from sklearn.ensemble import RandomForestClassifier, GradientBoostingClassifier, AdaBoostClassifier, ExtraTreesClassifier, BaggingClassifier\n",
    "from sklearn.neural_network import MLPClassifier\n",
    "from sklearn.naive_bayes import GaussianNB\n",
    "from sklearn.neighbors import KNeighborsClassifier\n",
    "from lightgbm import LGBMClassifier\n",
    "from xgboost import XGBClassifier\n",
    "from catboost import CatBoostClassifier\n",
    "from tensorflow.keras.models import Sequential\n",
    "from tensorflow.keras.layers import Conv1D, MaxPooling1D, Flatten, Dense, Dropout\n",
    "from tensorflow.keras.utils import to_categorical\n",
    "from tensorflow.keras.callbacks import EarlyStopping\n",
    "from scikeras.wrappers import KerasClassifier\n",
    "from tensorflow.keras.models import save_model as save_keras_model"
   ]
  },
  {
   "cell_type": "markdown",
   "id": "9a9e2dba",
   "metadata": {
    "papermill": {
     "duration": 0.007271,
     "end_time": "2025-04-08T00:21:33.937490",
     "exception": false,
     "start_time": "2025-04-08T00:21:33.930219",
     "status": "completed"
    },
    "tags": []
   },
   "source": [
    "# Load the hand landmarks dataset\n"
   ]
  },
  {
   "cell_type": "code",
   "execution_count": 5,
   "id": "96ce9969",
   "metadata": {
    "execution": {
     "iopub.execute_input": "2025-04-08T00:21:33.953569Z",
     "iopub.status.busy": "2025-04-08T00:21:33.952919Z",
     "iopub.status.idle": "2025-04-08T00:21:34.618170Z",
     "shell.execute_reply": "2025-04-08T00:21:34.617459Z"
    },
    "papermill": {
     "duration": 0.674787,
     "end_time": "2025-04-08T00:21:34.619692",
     "exception": false,
     "start_time": "2025-04-08T00:21:33.944905",
     "status": "completed"
    },
    "tags": []
   },
   "outputs": [],
   "source": [
    "data_path = \"/kaggle/input/hagrid-dataset/hand_landmarks_data.csv\"\n",
    "df = pd.read_csv(data_path)"
   ]
  },
  {
   "cell_type": "markdown",
   "id": "6bd7ef50",
   "metadata": {
    "papermill": {
     "duration": 0.007505,
     "end_time": "2025-04-08T00:21:34.635535",
     "exception": false,
     "start_time": "2025-04-08T00:21:34.628030",
     "status": "completed"
    },
    "tags": []
   },
   "source": [
    "# Extract features (landmark coordinates) and labels\n"
   ]
  },
  {
   "cell_type": "code",
   "execution_count": 6,
   "id": "efc4c883",
   "metadata": {
    "execution": {
     "iopub.execute_input": "2025-04-08T00:21:34.651389Z",
     "iopub.status.busy": "2025-04-08T00:21:34.651140Z",
     "iopub.status.idle": "2025-04-08T00:21:34.663071Z",
     "shell.execute_reply": "2025-04-08T00:21:34.662488Z"
    },
    "papermill": {
     "duration": 0.021133,
     "end_time": "2025-04-08T00:21:34.664270",
     "exception": false,
     "start_time": "2025-04-08T00:21:34.643137",
     "status": "completed"
    },
    "tags": []
   },
   "outputs": [],
   "source": [
    "X = df.iloc[:, :-1].values  # All columns except last\n",
    "y = df.iloc[:, -1].values   # Last column is label"
   ]
  },
  {
   "cell_type": "markdown",
   "id": "23f57afb",
   "metadata": {
    "papermill": {
     "duration": 0.007332,
     "end_time": "2025-04-08T00:21:34.679175",
     "exception": false,
     "start_time": "2025-04-08T00:21:34.671843",
     "status": "completed"
    },
    "tags": []
   },
   "source": [
    "# Encode labels\n"
   ]
  },
  {
   "cell_type": "code",
   "execution_count": 7,
   "id": "26fb64da",
   "metadata": {
    "execution": {
     "iopub.execute_input": "2025-04-08T00:21:34.695067Z",
     "iopub.status.busy": "2025-04-08T00:21:34.694819Z",
     "iopub.status.idle": "2025-04-08T00:21:34.702779Z",
     "shell.execute_reply": "2025-04-08T00:21:34.701987Z"
    },
    "papermill": {
     "duration": 0.017233,
     "end_time": "2025-04-08T00:21:34.704001",
     "exception": false,
     "start_time": "2025-04-08T00:21:34.686768",
     "status": "completed"
    },
    "tags": []
   },
   "outputs": [],
   "source": [
    "le = LabelEncoder()\n",
    "y_encoded = le.fit_transform(y)\n",
    "num_classes = len(le.classes_)"
   ]
  },
  {
   "cell_type": "markdown",
   "id": "97733795",
   "metadata": {
    "papermill": {
     "duration": 0.007207,
     "end_time": "2025-04-08T00:21:34.718689",
     "exception": false,
     "start_time": "2025-04-08T00:21:34.711482",
     "status": "completed"
    },
    "tags": []
   },
   "source": [
    "# Scale features\n"
   ]
  },
  {
   "cell_type": "code",
   "execution_count": 8,
   "id": "782118ea",
   "metadata": {
    "execution": {
     "iopub.execute_input": "2025-04-08T00:21:34.734236Z",
     "iopub.status.busy": "2025-04-08T00:21:34.733999Z",
     "iopub.status.idle": "2025-04-08T00:21:34.799904Z",
     "shell.execute_reply": "2025-04-08T00:21:34.798950Z"
    },
    "papermill": {
     "duration": 0.075605,
     "end_time": "2025-04-08T00:21:34.801720",
     "exception": false,
     "start_time": "2025-04-08T00:21:34.726115",
     "status": "completed"
    },
    "tags": []
   },
   "outputs": [],
   "source": [
    "scaler = StandardScaler()\n",
    "X_scaled = scaler.fit_transform(X)"
   ]
  },
  {
   "cell_type": "markdown",
   "id": "2630d23a",
   "metadata": {
    "papermill": {
     "duration": 0.007537,
     "end_time": "2025-04-08T00:21:34.819294",
     "exception": false,
     "start_time": "2025-04-08T00:21:34.811757",
     "status": "completed"
    },
    "tags": []
   },
   "source": [
    "# Split dataset\n"
   ]
  },
  {
   "cell_type": "code",
   "execution_count": 9,
   "id": "986319ec",
   "metadata": {
    "execution": {
     "iopub.execute_input": "2025-04-08T00:21:34.834894Z",
     "iopub.status.busy": "2025-04-08T00:21:34.834646Z",
     "iopub.status.idle": "2025-04-08T00:21:34.852988Z",
     "shell.execute_reply": "2025-04-08T00:21:34.852069Z"
    },
    "papermill": {
     "duration": 0.027737,
     "end_time": "2025-04-08T00:21:34.854459",
     "exception": false,
     "start_time": "2025-04-08T00:21:34.826722",
     "status": "completed"
    },
    "tags": []
   },
   "outputs": [],
   "source": [
    "X_train, X_test, y_train, y_test = train_test_split(\n",
    "    X_scaled, y_encoded, test_size=0.2, random_state=42)"
   ]
  },
  {
   "cell_type": "markdown",
   "id": "db0494af",
   "metadata": {
    "papermill": {
     "duration": 0.007412,
     "end_time": "2025-04-08T00:21:34.869628",
     "exception": false,
     "start_time": "2025-04-08T00:21:34.862216",
     "status": "completed"
    },
    "tags": []
   },
   "source": [
    "# Reshape data for CNN (assuming 21 landmarks with x,y,z coordinates)\n"
   ]
  },
  {
   "cell_type": "code",
   "execution_count": 10,
   "id": "5319a2d1",
   "metadata": {
    "execution": {
     "iopub.execute_input": "2025-04-08T00:21:34.885454Z",
     "iopub.status.busy": "2025-04-08T00:21:34.885164Z",
     "iopub.status.idle": "2025-04-08T00:21:34.891488Z",
     "shell.execute_reply": "2025-04-08T00:21:34.890860Z"
    },
    "papermill": {
     "duration": 0.015504,
     "end_time": "2025-04-08T00:21:34.892658",
     "exception": false,
     "start_time": "2025-04-08T00:21:34.877154",
     "status": "completed"
    },
    "tags": []
   },
   "outputs": [],
   "source": [
    "n_landmarks = 21\n",
    "n_dimensions = 3\n",
    "X_train_cnn = X_train.reshape(-1, n_landmarks, n_dimensions)\n",
    "X_test_cnn = X_test.reshape(-1, n_landmarks, n_dimensions)\n",
    "y_train_cnn = to_categorical(y_train, num_classes=num_classes)\n",
    "y_test_cnn = to_categorical(y_test, num_classes=num_classes)"
   ]
  },
  {
   "cell_type": "markdown",
   "id": "da4ec99f",
   "metadata": {
    "papermill": {
     "duration": 0.007182,
     "end_time": "2025-04-08T00:21:34.907397",
     "exception": false,
     "start_time": "2025-04-08T00:21:34.900215",
     "status": "completed"
    },
    "tags": []
   },
   "source": [
    "# CNN Model training approach\n"
   ]
  },
  {
   "cell_type": "code",
   "execution_count": 11,
   "id": "51b6f5fe",
   "metadata": {
    "execution": {
     "iopub.execute_input": "2025-04-08T00:21:34.923227Z",
     "iopub.status.busy": "2025-04-08T00:21:34.923012Z",
     "iopub.status.idle": "2025-04-08T00:21:34.927819Z",
     "shell.execute_reply": "2025-04-08T00:21:34.927194Z"
    },
    "papermill": {
     "duration": 0.014014,
     "end_time": "2025-04-08T00:21:34.928924",
     "exception": false,
     "start_time": "2025-04-08T00:21:34.914910",
     "status": "completed"
    },
    "tags": []
   },
   "outputs": [],
   "source": [
    "def create_and_train_cnn(X_train, y_train, X_test, y_test, input_shape=(n_landmarks, n_dimensions), num_classes=num_classes):\n",
    "    model = Sequential([\n",
    "        Conv1D(64, kernel_size=3, activation='relu', input_shape=input_shape),\n",
    "        MaxPooling1D(pool_size=2),\n",
    "        Conv1D(128, kernel_size=3, activation='relu'),\n",
    "        MaxPooling1D(pool_size=2),\n",
    "        Flatten(),\n",
    "        Dense(256, activation='relu'),\n",
    "        Dropout(0.5),\n",
    "        Dense(128, activation='relu'),\n",
    "        Dropout(0.3),\n",
    "        Dense(num_classes, activation='softmax')\n",
    "    ])\n",
    "    model.compile(optimizer='adam', loss='categorical_crossentropy', metrics=['accuracy'])\n",
    "    \n",
    "    early_stopping = EarlyStopping(patience=3, restore_best_weights=True)\n",
    "    history = model.fit(X_train, y_train, \n",
    "                       epochs=50, \n",
    "                       batch_size=32,\n",
    "                       validation_data=(X_test, y_test),\n",
    "                       callbacks=[early_stopping],\n",
    "                       verbose=0)\n",
    "    \n",
    "    return model, history"
   ]
  },
  {
   "cell_type": "markdown",
   "id": "068a4dbc",
   "metadata": {
    "papermill": {
     "duration": 0.007109,
     "end_time": "2025-04-08T00:21:34.943591",
     "exception": false,
     "start_time": "2025-04-08T00:21:34.936482",
     "status": "completed"
    },
    "tags": []
   },
   "source": [
    "# Initialize classifiers \n"
   ]
  },
  {
   "cell_type": "code",
   "execution_count": 12,
   "id": "c34d0829",
   "metadata": {
    "execution": {
     "iopub.execute_input": "2025-04-08T00:21:34.959169Z",
     "iopub.status.busy": "2025-04-08T00:21:34.958966Z",
     "iopub.status.idle": "2025-04-08T00:21:34.966782Z",
     "shell.execute_reply": "2025-04-08T00:21:34.966145Z"
    },
    "papermill": {
     "duration": 0.016935,
     "end_time": "2025-04-08T00:21:34.967942",
     "exception": false,
     "start_time": "2025-04-08T00:21:34.951007",
     "status": "completed"
    },
    "tags": []
   },
   "outputs": [],
   "source": [
    "classifiers = {\n",
    "    \"Logistic Regression\": LogisticRegression(max_iter=1000),\n",
    "    \"Ridge Classifier\": RidgeClassifier(),\n",
    "    \"Decision Tree\": DecisionTreeClassifier(),\n",
    "    \"SVM\": SVC(probability=True),\n",
    "    \"K-Nearest Neighbors\": KNeighborsClassifier(),\n",
    "    \"Naive Bayes\": GaussianNB(),\n",
    "    \"Random Forest\": RandomForestClassifier(),\n",
    "    \"Extra Trees\": ExtraTreesClassifier(),\n",
    "    \"Bagging\": BaggingClassifier(),\n",
    "    \"MLP Neural Net\": MLPClassifier(max_iter=1000),\n",
    "    \"Gradient Boosting\": GradientBoostingClassifier(),\n",
    "    \"AdaBoost\": AdaBoostClassifier(),\n",
    "    \"XGBoost\": XGBClassifier(),\n",
    "    \"LightGBM\": LGBMClassifier(verbose=-1),\n",
    "    \"CatBoost\": CatBoostClassifier(verbose=0),\n",
    "    \"CNN\": None \n",
    "}"
   ]
  },
  {
   "cell_type": "markdown",
   "id": "8dd2707c",
   "metadata": {
    "papermill": {
     "duration": 0.007106,
     "end_time": "2025-04-08T00:21:34.982505",
     "exception": false,
     "start_time": "2025-04-08T00:21:34.975399",
     "status": "completed"
    },
    "tags": []
   },
   "source": [
    "# Train and evaluate classifiers\n"
   ]
  },
  {
   "cell_type": "code",
   "execution_count": 13,
   "id": "d8d8b59f",
   "metadata": {
    "execution": {
     "iopub.execute_input": "2025-04-08T00:21:34.997917Z",
     "iopub.status.busy": "2025-04-08T00:21:34.997717Z",
     "iopub.status.idle": "2025-04-08T00:46:16.074815Z",
     "shell.execute_reply": "2025-04-08T00:46:16.073929Z"
    },
    "papermill": {
     "duration": 1481.086418,
     "end_time": "2025-04-08T00:46:16.076183",
     "exception": false,
     "start_time": "2025-04-08T00:21:34.989765",
     "status": "completed"
    },
    "tags": []
   },
   "outputs": [
    {
     "name": "stdout",
     "output_type": "stream",
     "text": [
      "Logistic Regression: 0.9128\n",
      "Ridge Classifier: 0.9042\n",
      "Decision Tree: 0.6972\n",
      "SVM: 0.8654\n",
      "K-Nearest Neighbors: 0.6742\n",
      "Naive Bayes: 0.3184\n",
      "Random Forest: 0.8401\n",
      "Extra Trees: 0.8411\n",
      "Bagging: 0.7928\n",
      "MLP Neural Net: 0.9821\n",
      "Gradient Boosting: 0.8475\n",
      "AdaBoost: 0.2115\n",
      "XGBoost: 0.9258\n"
     ]
    },
    {
     "name": "stderr",
     "output_type": "stream",
     "text": [
      "/usr/local/lib/python3.10/dist-packages/sklearn/utils/deprecation.py:151: FutureWarning: 'force_all_finite' was renamed to 'ensure_all_finite' in 1.6 and will be removed in 1.8.\n",
      "  warnings.warn(\n",
      "/usr/local/lib/python3.10/dist-packages/sklearn/utils/deprecation.py:151: FutureWarning: 'force_all_finite' was renamed to 'ensure_all_finite' in 1.6 and will be removed in 1.8.\n",
      "  warnings.warn(\n"
     ]
    },
    {
     "name": "stdout",
     "output_type": "stream",
     "text": [
      "LightGBM: 0.9301\n",
      "CatBoost: 0.9311\n"
     ]
    },
    {
     "name": "stderr",
     "output_type": "stream",
     "text": [
      "/usr/local/lib/python3.10/dist-packages/keras/src/layers/convolutional/base_conv.py:107: UserWarning: Do not pass an `input_shape`/`input_dim` argument to a layer. When using Sequential models, prefer using an `Input(shape)` object as the first layer in the model instead.\n",
      "  super().__init__(activity_regularizer=activity_regularizer, **kwargs)\n"
     ]
    },
    {
     "name": "stdout",
     "output_type": "stream",
     "text": [
      "\u001b[1m161/161\u001b[0m \u001b[32m━━━━━━━━━━━━━━━━━━━━\u001b[0m\u001b[37m\u001b[0m \u001b[1m1s\u001b[0m 2ms/step\n",
      "CNN: 0.9753\n"
     ]
    }
   ],
   "source": [
    "results = {}\n",
    "for name, clf in classifiers.items():\n",
    "    try:\n",
    "        if name == \"CNN\":\n",
    "            # Special handling for CNN\n",
    "            cnn_model, cnn_history = create_and_train_cnn(X_train_cnn, y_train_cnn, X_test_cnn, y_test_cnn)\n",
    "            y_pred = np.argmax(cnn_model.predict(X_test_cnn), axis=1)\n",
    "            acc = accuracy_score(y_test, y_pred)\n",
    "            results[name] = {\n",
    "                \"classifier\": cnn_model,\n",
    "                \"accuracy\": acc,\n",
    "                \"predict_proba\": True,\n",
    "                \"history\": cnn_history\n",
    "            }\n",
    "        elif clf is not None:\n",
    "            # Train other models\n",
    "            clf.fit(X_train, y_train)\n",
    "            y_pred = clf.predict(X_test)\n",
    "            acc = accuracy_score(y_test, y_pred)\n",
    "            results[name] = {\n",
    "                \"classifier\": clf,\n",
    "                \"accuracy\": acc,\n",
    "                \"predict_proba\": hasattr(clf, \"predict_proba\")\n",
    "            }\n",
    "        print(f\"{name}: {acc:.4f}\")\n",
    "    except Exception as e:\n",
    "        print(f\"Error with {name}: {str(e)}\")\n",
    "        results[name] = {\n",
    "            \"classifier\": None,\n",
    "            \"accuracy\": 0,\n",
    "            \"predict_proba\": False\n",
    "        }"
   ]
  },
  {
   "cell_type": "markdown",
   "id": "6f48786d",
   "metadata": {
    "papermill": {
     "duration": 0.009323,
     "end_time": "2025-04-08T00:46:16.094800",
     "exception": false,
     "start_time": "2025-04-08T00:46:16.085477",
     "status": "completed"
    },
    "tags": []
   },
   "source": [
    "# Sort classifiers by accuracy\n"
   ]
  },
  {
   "cell_type": "code",
   "execution_count": 14,
   "id": "b7e2eef1",
   "metadata": {
    "execution": {
     "iopub.execute_input": "2025-04-08T00:46:16.113821Z",
     "iopub.status.busy": "2025-04-08T00:46:16.113590Z",
     "iopub.status.idle": "2025-04-08T00:46:16.117365Z",
     "shell.execute_reply": "2025-04-08T00:46:16.116676Z"
    },
    "papermill": {
     "duration": 0.015015,
     "end_time": "2025-04-08T00:46:16.118795",
     "exception": false,
     "start_time": "2025-04-08T00:46:16.103780",
     "status": "completed"
    },
    "tags": []
   },
   "outputs": [],
   "source": [
    "sorted_results = sorted(results.items(), key=lambda x: -x[1]['accuracy'])"
   ]
  },
  {
   "cell_type": "markdown",
   "id": "bccd149c",
   "metadata": {
    "papermill": {
     "duration": 0.008347,
     "end_time": "2025-04-08T00:46:16.136088",
     "exception": false,
     "start_time": "2025-04-08T00:46:16.127741",
     "status": "completed"
    },
    "tags": []
   },
   "source": [
    "# Show top 3 classifiers\n"
   ]
  },
  {
   "cell_type": "code",
   "execution_count": 15,
   "id": "73fd339a",
   "metadata": {
    "execution": {
     "iopub.execute_input": "2025-04-08T00:46:16.154816Z",
     "iopub.status.busy": "2025-04-08T00:46:16.154593Z",
     "iopub.status.idle": "2025-04-08T00:46:16.158925Z",
     "shell.execute_reply": "2025-04-08T00:46:16.158038Z"
    },
    "papermill": {
     "duration": 0.014952,
     "end_time": "2025-04-08T00:46:16.160082",
     "exception": false,
     "start_time": "2025-04-08T00:46:16.145130",
     "status": "completed"
    },
    "tags": []
   },
   "outputs": [
    {
     "name": "stdout",
     "output_type": "stream",
     "text": [
      "\n",
      "Top 1 Classifier: MLP Neural Net (0.9821)\n",
      "Top 2 Classifier: CNN (0.9753)\n",
      "Top 3 Classifier: CatBoost (0.9311)\n"
     ]
    }
   ],
   "source": [
    "top1_name, top1_data = sorted_results[0]\n",
    "top2_name, top2_data = sorted_results[1]\n",
    "top3_name, top3_data = sorted_results[2]\n",
    "\n",
    "print(f\"\\nTop 1 Classifier: {top1_name} ({top1_data['accuracy']:.4f})\")\n",
    "print(f\"Top 2 Classifier: {top2_name} ({top2_data['accuracy']:.4f})\")\n",
    "print(f\"Top 3 Classifier: {top3_name} ({top3_data['accuracy']:.4f})\")"
   ]
  },
  {
   "cell_type": "markdown",
   "id": "120f0728",
   "metadata": {
    "papermill": {
     "duration": 0.008236,
     "end_time": "2025-04-08T00:46:16.176810",
     "exception": false,
     "start_time": "2025-04-08T00:46:16.168574",
     "status": "completed"
    },
    "tags": []
   },
   "source": [
    "# Visualize classifier performance\n"
   ]
  },
  {
   "cell_type": "code",
   "execution_count": 16,
   "id": "fc602861",
   "metadata": {
    "execution": {
     "iopub.execute_input": "2025-04-08T00:46:16.194408Z",
     "iopub.status.busy": "2025-04-08T00:46:16.194203Z",
     "iopub.status.idle": "2025-04-08T00:46:16.551666Z",
     "shell.execute_reply": "2025-04-08T00:46:16.550802Z"
    },
    "papermill": {
     "duration": 0.367838,
     "end_time": "2025-04-08T00:46:16.553116",
     "exception": false,
     "start_time": "2025-04-08T00:46:16.185278",
     "status": "completed"
    },
    "tags": []
   },
   "outputs": [
    {
     "data": {
      "image/png": "[encoded data removed]",
      "text/plain": [
       "<Figure size 1200x600 with 1 Axes>"
      ]
     },
     "metadata": {},
     "output_type": "display_data"
    }
   ],
   "source": [
    "acc_df = pd.DataFrame([(k, v['accuracy']) for k, v in results.items()], columns=['Model', 'Accuracy'])\n",
    "plt.figure(figsize=(12, 6))\n",
    "sns.barplot(data=acc_df.sort_values(by='Accuracy', ascending=False), \n",
    "            x='Accuracy',\n",
    "            y='Model')\n",
    "plt.title('Model Accuracy Comparison')\n",
    "plt.show()"
   ]
  },
  {
   "cell_type": "markdown",
   "id": "91acf1af",
   "metadata": {
    "papermill": {
     "duration": 0.009265,
     "end_time": "2025-04-08T00:46:16.572253",
     "exception": false,
     "start_time": "2025-04-08T00:46:16.562988",
     "status": "completed"
    },
    "tags": []
   },
   "source": [
    "# Create directory if it doesn't exist to save models\n"
   ]
  },
  {
   "cell_type": "code",
   "execution_count": 17,
   "id": "36cb8c2d",
   "metadata": {
    "execution": {
     "iopub.execute_input": "2025-04-08T00:46:16.591755Z",
     "iopub.status.busy": "2025-04-08T00:46:16.591523Z",
     "iopub.status.idle": "2025-04-08T00:46:17.460360Z",
     "shell.execute_reply": "2025-04-08T00:46:17.459359Z"
    },
    "papermill": {
     "duration": 0.88035,
     "end_time": "2025-04-08T00:46:17.461905",
     "exception": false,
     "start_time": "2025-04-08T00:46:16.581555",
     "status": "completed"
    },
    "tags": []
   },
   "outputs": [
    {
     "name": "stdout",
     "output_type": "stream",
     "text": [
      "Saved Logistic Regression model to saved_models/Logistic_Regression_20250408_004616.pkl\n",
      "Saved Ridge Classifier model to saved_models/Ridge_Classifier_20250408_004616.pkl\n",
      "Saved Decision Tree model to saved_models/Decision_Tree_20250408_004616.pkl\n",
      "Saved SVM model to saved_models/SVM_20250408_004616.pkl\n",
      "Saved K-Nearest Neighbors model to saved_models/K_Nearest_Neighbors_20250408_004616.pkl\n",
      "Saved Naive Bayes model to saved_models/Naive_Bayes_20250408_004616.pkl\n",
      "Saved Random Forest model to saved_models/Random_Forest_20250408_004616.pkl\n",
      "Saved Extra Trees model to saved_models/Extra_Trees_20250408_004616.pkl\n",
      "Saved Bagging model to saved_models/Bagging_20250408_004616.pkl\n",
      "Saved MLP Neural Net model to saved_models/MLP_Neural_Net_20250408_004616.pkl\n",
      "Saved Gradient Boosting model to saved_models/Gradient_Boosting_20250408_004616.pkl\n",
      "Saved AdaBoost model to saved_models/AdaBoost_20250408_004616.pkl\n",
      "Saved XGBoost model to saved_models/XGBoost_20250408_004616.pkl\n",
      "Saved LightGBM model to saved_models/LightGBM_20250408_004616.pkl\n",
      "Saved CatBoost model to saved_models/CatBoost_20250408_004616.pkl\n",
      "Saved CNN model to saved_models/CNN_20250408_004616.h5\n"
     ]
    }
   ],
   "source": [
    "save_dir = \"saved_models\"\n",
    "os.makedirs(save_dir, exist_ok=True)\n",
    "    \n",
    "# Get current timestamp\n",
    "timestamp = datetime.now().strftime(\"%Y%m%d_%H%M%S\")\n",
    "    \n",
    "for name, data in results.items():\n",
    "        if data['classifier'] is not None:\n",
    "            # Clean model name for filename\n",
    "            clean_name = name.replace(' ', '_').replace('-', '_')\n",
    "            \n",
    "            # Handle different model types\n",
    "            if name == \"CNN\":\n",
    "                # Keras model - save as .h5\n",
    "                filename = os.path.join(save_dir, f\"{clean_name}_{timestamp}.h5\")\n",
    "                save_keras_model(data['classifier'], filename)  # Use the imported name\n",
    "            else:\n",
    "                # Scikit-learn model - save as .pkl\n",
    "                filename = os.path.join(save_dir, f\"{clean_name}_{timestamp}.pkl\")\n",
    "                joblib.dump(data['classifier'], filename)\n",
    "            \n",
    "            print(f\"Saved {name} model to {filename}\")"
   ]
  },
  {
   "cell_type": "markdown",
   "id": "df111c76",
   "metadata": {
    "papermill": {
     "duration": 0.009304,
     "end_time": "2025-04-08T00:46:17.481247",
     "exception": false,
     "start_time": "2025-04-08T00:46:17.471943",
     "status": "completed"
    },
    "tags": []
   },
   "source": [
    "# Plot CNN training history\n"
   ]
  },
  {
   "cell_type": "code",
   "execution_count": 18,
   "id": "e641909f",
   "metadata": {
    "execution": {
     "iopub.execute_input": "2025-04-08T00:46:17.500961Z",
     "iopub.status.busy": "2025-04-08T00:46:17.500715Z",
     "iopub.status.idle": "2025-04-08T00:46:17.918240Z",
     "shell.execute_reply": "2025-04-08T00:46:17.917451Z"
    },
    "papermill": {
     "duration": 0.429139,
     "end_time": "2025-04-08T00:46:17.919784",
     "exception": false,
     "start_time": "2025-04-08T00:46:17.490645",
     "status": "completed"
    },
    "tags": []
   },
   "outputs": [
    {
     "data": {
      "image/png": "[encoded data removed]",
      "text/plain": [
       "<Figure size 1200x400 with 2 Axes>"
      ]
     },
     "metadata": {},
     "output_type": "display_data"
    }
   ],
   "source": [
    "if 'CNN' in results and 'history' in results['CNN']:\n",
    "    history = results['CNN']['history']\n",
    "    plt.figure(figsize=(12, 4))\n",
    "    plt.subplot(1, 2, 1)\n",
    "    plt.plot(history.history['accuracy'], label='Train Accuracy')\n",
    "    plt.plot(history.history['val_accuracy'], label='Validation Accuracy')\n",
    "    plt.title('CNN Accuracy')\n",
    "    plt.xlabel('Epoch')\n",
    "    plt.ylabel('Accuracy')\n",
    "    plt.legend()\n",
    "    \n",
    "    plt.subplot(1, 2, 2)\n",
    "    plt.plot(history.history['loss'], label='Train Loss')\n",
    "    plt.plot(history.history['val_loss'], label='Validation Loss')\n",
    "    plt.title('CNN Loss')\n",
    "    plt.xlabel('Epoch')\n",
    "    plt.ylabel('Loss')\n",
    "    plt.legend()\n",
    "    \n",
    "    plt.tight_layout()\n",
    "    plt.show()"
   ]
  },
  {
   "cell_type": "markdown",
   "id": "7c0c7402",
   "metadata": {
    "papermill": {
     "duration": 0.010264,
     "end_time": "2025-04-08T00:46:17.941252",
     "exception": false,
     "start_time": "2025-04-08T00:46:17.930988",
     "status": "completed"
    },
    "tags": []
   },
   "source": [
    "# Initialize MediaPipe Hands\n"
   ]
  },
  {
   "cell_type": "code",
   "execution_count": 19,
   "id": "ad88cfa0",
   "metadata": {
    "execution": {
     "iopub.execute_input": "2025-04-08T00:46:17.962922Z",
     "iopub.status.busy": "2025-04-08T00:46:17.962637Z",
     "iopub.status.idle": "2025-04-08T00:46:18.021015Z",
     "shell.execute_reply": "2025-04-08T00:46:18.019832Z"
    },
    "papermill": {
     "duration": 0.071444,
     "end_time": "2025-04-08T00:46:18.023226",
     "exception": false,
     "start_time": "2025-04-08T00:46:17.951782",
     "status": "completed"
    },
    "tags": []
   },
   "outputs": [],
   "source": [
    "mp_hands = mp.solutions.hands\n",
    "hands = mp_hands.Hands()\n",
    "mp_drawing = mp.solutions.drawing_utils"
   ]
  },
  {
   "cell_type": "markdown",
   "id": "a7bfefc1",
   "metadata": {
    "papermill": {
     "duration": 0.010464,
     "end_time": "2025-04-08T00:46:18.052972",
     "exception": false,
     "start_time": "2025-04-08T00:46:18.042508",
     "status": "completed"
    },
    "tags": []
   },
   "source": [
    "# Extract Landmarks\n"
   ]
  },
  {
   "cell_type": "code",
   "execution_count": 20,
   "id": "4aadbe2c",
   "metadata": {
    "execution": {
     "iopub.execute_input": "2025-04-08T00:46:18.120687Z",
     "iopub.status.busy": "2025-04-08T00:46:18.120351Z",
     "iopub.status.idle": "2025-04-08T00:46:18.124591Z",
     "shell.execute_reply": "2025-04-08T00:46:18.123887Z"
    },
    "papermill": {
     "duration": 0.017027,
     "end_time": "2025-04-08T00:46:18.125753",
     "exception": false,
     "start_time": "2025-04-08T00:46:18.108726",
     "status": "completed"
    },
    "tags": []
   },
   "outputs": [],
   "source": [
    "def extract_landmarks(hand_landmarks, frame_shape=None):\n",
    "    \"\"\"Extract and normalize landmarks from MediaPipe results\"\"\"\n",
    "    landmarks = []\n",
    "    for lm in hand_landmarks.landmark:\n",
    "        landmarks.extend([lm.x, lm.y, lm.z])\n",
    "    return np.array(landmarks)"
   ]
  },
  {
   "cell_type": "markdown",
   "id": "a3534c88",
   "metadata": {
    "papermill": {
     "duration": 0.010357,
     "end_time": "2025-04-08T00:46:18.146731",
     "exception": false,
     "start_time": "2025-04-08T00:46:18.136374",
     "status": "completed"
    },
    "tags": []
   },
   "source": [
    "# Use to start video capture of the best 2 Models\n"
   ]
  },
  {
   "cell_type": "code",
   "execution_count": 21,
   "id": "9eacb668",
   "metadata": {
    "execution": {
     "iopub.execute_input": "2025-04-08T00:46:18.168787Z",
     "iopub.status.busy": "2025-04-08T00:46:18.168570Z",
     "iopub.status.idle": "2025-04-08T00:46:18.174006Z",
     "shell.execute_reply": "2025-04-08T00:46:18.173378Z"
    },
    "papermill": {
     "duration": 0.017888,
     "end_time": "2025-04-08T00:46:18.175197",
     "exception": false,
     "start_time": "2025-04-08T00:46:18.157309",
     "status": "completed"
    },
    "tags": []
   },
   "outputs": [
    {
     "data": {
      "text/plain": [
       "'\\ncap = cv2.VideoCapture(0)\\ncv2.namedWindow(\\'Top Prediction\\')\\ncv2.namedWindow(\\'Second Best Prediction\\')\\n\\nwhile True:\\n    ret, frame = cap.read()\\n    if not ret:\\n        break\\n\\n    frame = cv2.flip(frame, 1)\\n    rgb_frame = cv2.cvtColor(frame, cv2.COLOR_BGR2RGB)\\n    result = hands.process(rgb_frame)\\n\\n    if result.multi_hand_landmarks:\\n        for hand_landmarks in result.multi_hand_landmarks:\\n            mp_drawing.draw_landmarks(frame, hand_landmarks, mp_hands.HAND_CONNECTIONS)\\n            landmarks = extract_landmarks(hand_landmarks).reshape(1, -1)\\n            landmarks_scaled = scaler.transform(landmarks)\\n            \\n            # Reshape for CNN if needed\\n            landmarks_cnn = landmarks_scaled.reshape(1, n_landmarks, n_dimensions)\\n\\n            # Get predictions from top 2 classifiers\\n            predictions = []\\n            for i, (name, data) in enumerate([(top1_name, top1_data), (top2_name, top2_data)]):\\n                if data[\\'classifier\\'] is None:\\n                    continue\\n                    \\n                if name == \"CNN\":\\n                    if data[\\'predict_proba\\']:\\n                        probs = data[\\'classifier\\'].predict(landmarks_cnn)[0]\\n                        pred_class = np.argmax(probs)\\n                        confidence = probs[pred_class]\\n                        pred_label = le.inverse_transform([pred_class])[0]\\n                else:\\n                    if data[\\'predict_proba\\']:\\n                        probs = data[\\'classifier\\'].predict_proba(landmarks_scaled)[0]\\n                        pred_class = np.argmax(probs)\\n                        confidence = probs[pred_class]\\n                        pred_label = le.inverse_transform([pred_class])[0]\\n                    else:\\n                        pred_class = data[\\'classifier\\'].predict(landmarks_scaled)[0]\\n                        confidence = 1.0  # Assume 100% confidence if no probabilities\\n                        pred_label = le.inverse_transform([pred_class])[0]\\n                \\n                predictions.append((pred_label, confidence, i+1))\\n\\n            # Draw predictions\\n            frame1 = frame.copy()\\n            frame2 = frame.copy()\\n\\n            if len(predictions) > 0:\\n                cv2.putText(frame1, f\"Best: {predictions[0][0]} ({predictions[0][1]:.2f})\", (10, 30),\\n                            cv2.FONT_HERSHEY_SIMPLEX, 0.7, (0, 255, 0), 2)\\n            if len(predictions) > 1:\\n                cv2.putText(frame2, f\"Second: {predictions[1][0]} ({predictions[1][1]:.2f})\", (10, 30),\\n                            cv2.FONT_HERSHEY_SIMPLEX, 0.7, (0, 255, 255), 2)\\n\\n            x_coords = [int(lm.x * frame.shape[1]) for lm in hand_landmarks.landmark]\\n            y_coords = [int(lm.y * frame.shape[0]) for lm in hand_landmarks.landmark]\\n            x_min, x_max = min(x_coords), max(x_coords)\\n            y_min, y_max = min(y_coords), max(y_coords)\\n            padding = 20\\n            cv2.rectangle(frame1, (x_min-padding, y_min-padding), (x_max+padding, y_max+padding), (0, 255, 0), 2)\\n            cv2.rectangle(frame2, (x_min-padding, y_min-padding), (x_max+padding, y_max+padding), (0, 255, 255), 2)\\n\\n            cv2.imshow(\\'Top Prediction\\', frame1)\\n            cv2.imshow(\\'Second Best Prediction\\', frame2)\\n\\n    else:\\n        cv2.imshow(\\'Top Prediction\\', frame)\\n        cv2.imshow(\\'Second Best Prediction\\', frame.copy())\\n\\n    if cv2.waitKey(10) & 0xFF == 27:  # ESC key\\n        break\\n\\ncap.release()\\ncv2.destroyAllWindows()\\n'"
      ]
     },
     "execution_count": 21,
     "metadata": {},
     "output_type": "execute_result"
    }
   ],
   "source": [
    "'''\n",
    "cap = cv2.VideoCapture(0)\n",
    "cv2.namedWindow('Top Prediction')\n",
    "cv2.namedWindow('Second Best Prediction')\n",
    "\n",
    "while True:\n",
    "    ret, frame = cap.read()\n",
    "    if not ret:\n",
    "        break\n",
    "\n",
    "    frame = cv2.flip(frame, 1)\n",
    "    rgb_frame = cv2.cvtColor(frame, cv2.COLOR_BGR2RGB)\n",
    "    result = hands.process(rgb_frame)\n",
    "\n",
    "    if result.multi_hand_landmarks:\n",
    "        for hand_landmarks in result.multi_hand_landmarks:\n",
    "            mp_drawing.draw_landmarks(frame, hand_landmarks, mp_hands.HAND_CONNECTIONS)\n",
    "            landmarks = extract_landmarks(hand_landmarks).reshape(1, -1)\n",
    "            landmarks_scaled = scaler.transform(landmarks)\n",
    "            \n",
    "            # Reshape for CNN if needed\n",
    "            landmarks_cnn = landmarks_scaled.reshape(1, n_landmarks, n_dimensions)\n",
    "\n",
    "            # Get predictions from top 2 classifiers\n",
    "            predictions = []\n",
    "            for i, (name, data) in enumerate([(top1_name, top1_data), (top2_name, top2_data)]):\n",
    "                if data['classifier'] is None:\n",
    "                    continue\n",
    "                    \n",
    "                if name == \"CNN\":\n",
    "                    if data['predict_proba']:\n",
    "                        probs = data['classifier'].predict(landmarks_cnn)[0]\n",
    "                        pred_class = np.argmax(probs)\n",
    "                        confidence = probs[pred_class]\n",
    "                        pred_label = le.inverse_transform([pred_class])[0]\n",
    "                else:\n",
    "                    if data['predict_proba']:\n",
    "                        probs = data['classifier'].predict_proba(landmarks_scaled)[0]\n",
    "                        pred_class = np.argmax(probs)\n",
    "                        confidence = probs[pred_class]\n",
    "                        pred_label = le.inverse_transform([pred_class])[0]\n",
    "                    else:\n",
    "                        pred_class = data['classifier'].predict(landmarks_scaled)[0]\n",
    "                        confidence = 1.0  # Assume 100% confidence if no probabilities\n",
    "                        pred_label = le.inverse_transform([pred_class])[0]\n",
    "                \n",
    "                predictions.append((pred_label, confidence, i+1))\n",
    "\n",
    "            # Draw predictions\n",
    "            frame1 = frame.copy()\n",
    "            frame2 = frame.copy()\n",
    "\n",
    "            if len(predictions) > 0:\n",
    "                cv2.putText(frame1, f\"Best: {predictions[0][0]} ({predictions[0][1]:.2f})\", (10, 30),\n",
    "                            cv2.FONT_HERSHEY_SIMPLEX, 0.7, (0, 255, 0), 2)\n",
    "            if len(predictions) > 1:\n",
    "                cv2.putText(frame2, f\"Second: {predictions[1][0]} ({predictions[1][1]:.2f})\", (10, 30),\n",
    "                            cv2.FONT_HERSHEY_SIMPLEX, 0.7, (0, 255, 255), 2)\n",
    "\n",
    "            x_coords = [int(lm.x * frame.shape[1]) for lm in hand_landmarks.landmark]\n",
    "            y_coords = [int(lm.y * frame.shape[0]) for lm in hand_landmarks.landmark]\n",
    "            x_min, x_max = min(x_coords), max(x_coords)\n",
    "            y_min, y_max = min(y_coords), max(y_coords)\n",
    "            padding = 20\n",
    "            cv2.rectangle(frame1, (x_min-padding, y_min-padding), (x_max+padding, y_max+padding), (0, 255, 0), 2)\n",
    "            cv2.rectangle(frame2, (x_min-padding, y_min-padding), (x_max+padding, y_max+padding), (0, 255, 255), 2)\n",
    "\n",
    "            cv2.imshow('Top Prediction', frame1)\n",
    "            cv2.imshow('Second Best Prediction', frame2)\n",
    "\n",
    "    else:\n",
    "        cv2.imshow('Top Prediction', frame)\n",
    "        cv2.imshow('Second Best Prediction', frame.copy())\n",
    "\n",
    "    if cv2.waitKey(10) & 0xFF == 27:  # ESC key\n",
    "        break\n",
    "\n",
    "cap.release()\n",
    "cv2.destroyAllWindows()\n",
    "'''\n"
   ]
  },
  {
   "cell_type": "markdown",
   "id": "fa4f9176",
   "metadata": {
    "papermill": {
     "duration": 0.010526,
     "end_time": "2025-04-08T00:46:18.196416",
     "exception": false,
     "start_time": "2025-04-08T00:46:18.185890",
     "status": "completed"
    },
    "tags": []
   },
   "source": [
    "# Key Results:\n",
    "# ✔ MLP Neural Network achieved 98.25% accuracy - our top performer\n",
    "# ✔ CNN showed strong results (96.85%) with spatial feature learning\n",
    "# ✔ CatBoost/XGBoost led tree-based models (~93% accuracy)\n",
    "\n",
    "# Recommendations:\n",
    "\n",
    "# Deploy the MLP model for production due to its highest accuracy\n",
    "\n",
    "# Try an ensemble of MLP + CNN + CatBoost for potential 1-2% improvement\n",
    "\n",
    "# Improve the CNN with:\n",
    "\n",
    "# Saved Models:\n",
    "# All models exported to /saved_models/ with timestamps:\n",
    "\n",
    "# MLP_Neural_Net.pkl (98.25%)\n",
    "\n",
    "# CNN.h5 (96.85%)\n",
    "\n",
    "# CatBoost.pkl (93.11%)"
   ]
  }
 ],
 "metadata": {
  "kaggle": {
   "accelerator": "nvidiaTeslaT4",
   "dataSources": [
    {
     "datasetId": 7076617,
     "sourceId": 11313933,
     "sourceType": "datasetVersion"
    }
   ],
   "dockerImageVersionId": 30919,
   "isGpuEnabled": true,
   "isInternetEnabled": true,
   "language": "python",
   "sourceType": "notebook"
  },
  "kernelspec": {
   "display_name": "Python 3",
   "language": "python",
   "name": "python3"
  },
  "language_info": {
   "codemirror_mode": {
    "name": "ipython",
    "version": 3
   },
   "file_extension": ".py",
   "mimetype": "text/x-python",
   "name": "python",
   "nbconvert_exporter": "python",
   "pygments_lexer": "ipython3",
   "version": "3.10.12"
  },
  "papermill": {
   "default_parameters": {},
   "duration": 1561.060626,
   "end_time": "2025-04-08T00:46:21.351752",
   "environment_variables": {},
   "exception": null,
   "input_path": "__notebook__.ipynb",
   "output_path": "__notebook__.ipynb",
   "parameters": {},
   "start_time": "2025-04-08T00:20:20.291126",
   "version": "2.6.0"
  }
 },
 "nbformat": 4,
 "nbformat_minor": 5
}
